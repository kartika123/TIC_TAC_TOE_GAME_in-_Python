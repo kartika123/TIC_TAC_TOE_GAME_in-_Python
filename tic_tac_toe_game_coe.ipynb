{
 "cells": [
  {
   "cell_type": "markdown",
   "metadata": {},
   "source": [
    "# TIC TAC TOE GAME"
   ]
  },
  {
   "cell_type": "markdown",
   "metadata": {},
   "source": [
    "### Creating the board"
   ]
  },
  {
   "cell_type": "code",
   "execution_count": 21,
   "metadata": {},
   "outputs": [],
   "source": [
    "import numpy\n",
    "board=numpy.array([['-','-','-'],['-','-','-'],['-','-','-']])\n"
   ]
  },
  {
   "cell_type": "markdown",
   "metadata": {},
   "source": [
    "### Function to place the symbol at the place specified by user"
   ]
  },
  {
   "cell_type": "code",
   "execution_count": 22,
   "metadata": {},
   "outputs": [],
   "source": [
    "def place(symbol):\n",
    "    print(numpy.matrix(board))\n",
    "    while(1):\n",
    "        row=int(input(\"Enter row 1 or 2 or 3 \"))\n",
    "        col=int(input(\"Enter column 1 or 2 or 3 \"))\n",
    "        if row>0 and row<4 and col>0 and col<4 and board[row-1][col-1]=='-':\n",
    "            break\n",
    "        else:\n",
    "            print(\"Invalid Input Please enter again\")\n",
    "    board[row-1][col-1]=symbol\n"
   ]
  },
  {
   "cell_type": "markdown",
   "metadata": {},
   "source": [
    "### To check if all rows values are equal"
   ]
  },
  {
   "cell_type": "code",
   "execution_count": 24,
   "metadata": {},
   "outputs": [],
   "source": [
    "def check_rows(symbol):\n",
    "    for r in range(3):\n",
    "        count=0\n",
    "        for c in range(3):\n",
    "            if board[r][c]==symbol:\n",
    "                count+=1\n",
    "        if count==3:\n",
    "            print(symbol,\"won\")\n",
    "            return True\n",
    "    return False\n",
    "    "
   ]
  },
  {
   "cell_type": "markdown",
   "metadata": {},
   "source": [
    "### To check if all columns values are equal"
   ]
  },
  {
   "cell_type": "code",
   "execution_count": 25,
   "metadata": {},
   "outputs": [],
   "source": [
    "def check_col(symbol):\n",
    "    for c in range(3):\n",
    "        count=0\n",
    "        for r in range(3):\n",
    "            if board[r][c]==symbol:\n",
    "                count+=1\n",
    "        if count==3:\n",
    "            print(symbol,\"won\")\n",
    "            return True\n",
    "    return False"
   ]
  },
  {
   "cell_type": "markdown",
   "metadata": {},
   "source": [
    "### To check if all diagonal values are equal"
   ]
  },
  {
   "cell_type": "code",
   "execution_count": 18,
   "metadata": {},
   "outputs": [],
   "source": [
    "def check_diagonal(symbol):\n",
    "    if board[0][2]==board[1][1] and board[1][1]==board[2][0] and board[1][1]==symbol:\n",
    "        print(symbol,\"won\")\n",
    "        return True\n",
    "    if board[0][0]==board[1][1] and board[1][1]==board[2][2] and board[1][1]==symbol:\n",
    "        print(symbol,\"won\")\n",
    "        return True"
   ]
  },
  {
   "cell_type": "markdown",
   "metadata": {},
   "source": [
    "### Winning criteria function"
   ]
  },
  {
   "cell_type": "code",
   "execution_count": 26,
   "metadata": {},
   "outputs": [],
   "source": [
    "def won(symbol):\n",
    "    return check_rows(symbol) or check_col(symbol) or check_diagonal(symbol)"
   ]
  },
  {
   "cell_type": "markdown",
   "metadata": {},
   "source": [
    "### Play function"
   ]
  },
  {
   "cell_type": "code",
   "execution_count": 20,
   "metadata": {},
   "outputs": [
    {
     "name": "stdout",
     "output_type": "stream",
     "text": [
      "X turn\n",
      "[['-' '-' '-']\n",
      " ['-' '-' '-']\n",
      " ['-' '-' '-']]\n",
      "Enter row 1 or 2 or 3 2\n",
      "Enter column 1 or 2 or 3 2\n",
      "Draw\n",
      "O turn\n",
      "[['-' '-' '-']\n",
      " ['-' 'X' '-']\n",
      " ['-' '-' '-']]\n",
      "Enter row 1 or 2 or 3 0\n",
      "Enter column 1 or 2 or 3 1\n",
      "Invalid Input Please enter again\n",
      "Enter row 1 or 2 or 3 1\n",
      "Enter column 1 or 2 or 3 1\n",
      "Draw\n",
      "X turn\n",
      "[['O' '-' '-']\n",
      " ['-' 'X' '-']\n",
      " ['-' '-' '-']]\n",
      "Enter row 1 or 2 or 3 3\n",
      "Enter column 1 or 2 or 3 3\n",
      "Draw\n",
      "O turn\n",
      "[['O' '-' '-']\n",
      " ['-' 'X' '-']\n",
      " ['-' '-' 'X']]\n",
      "Enter row 1 or 2 or 3 2\n",
      "Enter column 1 or 2 or 3 1\n",
      "Draw\n",
      "X turn\n",
      "[['O' '-' '-']\n",
      " ['O' 'X' '-']\n",
      " ['-' '-' 'X']]\n",
      "Enter row 1 or 2 or 3 2\n",
      "Enter column 1 or 2 or 3 3\n",
      "Draw\n",
      "O turn\n",
      "[['O' '-' '-']\n",
      " ['O' 'X' 'X']\n",
      " ['-' '-' 'X']]\n",
      "Enter row 1 or 2 or 3 3\n",
      "Enter column 1 or 2 or 3 1\n",
      "O won\n"
     ]
    }
   ],
   "source": [
    "player1_symbol='X'\n",
    "player2_symbol='O'\n",
    "def play():\n",
    "    for turn in range(9):\n",
    "        if turn%2==0:\n",
    "            print(\"X turn\")\n",
    "            place(player1_symbol)\n",
    "            if won(player1_symbol):\n",
    "                break\n",
    "        else:\n",
    "            print(\"O turn\")\n",
    "            place(player2_symbol)\n",
    "            if won(player2_symbol):\n",
    "                break\n",
    "        if not(won(player1_symbol)) and not(won(player2_symbol)):\n",
    "            print(\"Draw\")\n",
    "            \n",
    "play()"
   ]
  },
  {
   "cell_type": "code",
   "execution_count": null,
   "metadata": {},
   "outputs": [],
   "source": []
  }
 ],
 "metadata": {
  "kernelspec": {
   "display_name": "Python 3",
   "language": "python",
   "name": "python3"
  },
  "language_info": {
   "codemirror_mode": {
    "name": "ipython",
    "version": 3
   },
   "file_extension": ".py",
   "mimetype": "text/x-python",
   "name": "python",
   "nbconvert_exporter": "python",
   "pygments_lexer": "ipython3",
   "version": "3.6.9"
  }
 },
 "nbformat": 4,
 "nbformat_minor": 4
}
